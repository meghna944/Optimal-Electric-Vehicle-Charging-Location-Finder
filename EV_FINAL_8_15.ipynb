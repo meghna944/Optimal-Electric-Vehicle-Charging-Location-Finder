{
 "cells": [
  {
   "cell_type": "markdown",
   "metadata": {
    "id": "db37ebbf"
   },
   "source": [
    "Data Warehouse"
   ]
  },
  {
   "cell_type": "code",
   "execution_count": 2,
   "metadata": {
    "id": "04319121",
    "outputId": "e8961bb6-116e-40bc-e2ee-4a117627bd75"
   },
   "outputs": [
    {
     "data": {
      "text/html": [
       "<div>\n",
       "<style scoped>\n",
       "    .dataframe tbody tr th:only-of-type {\n",
       "        vertical-align: middle;\n",
       "    }\n",
       "\n",
       "    .dataframe tbody tr th {\n",
       "        vertical-align: top;\n",
       "    }\n",
       "\n",
       "    .dataframe thead th {\n",
       "        text-align: right;\n",
       "    }\n",
       "</style>\n",
       "<table border=\"1\" class=\"dataframe\">\n",
       "  <thead>\n",
       "    <tr style=\"text-align: right;\">\n",
       "      <th></th>\n",
       "      <th>Station Name</th>\n",
       "      <th>Street Address</th>\n",
       "      <th>Latitude</th>\n",
       "      <th>Longitude</th>\n",
       "    </tr>\n",
       "  </thead>\n",
       "  <tbody>\n",
       "    <tr>\n",
       "      <th>0</th>\n",
       "      <td>Westchester County Department of Health</td>\n",
       "      <td>134 Main St</td>\n",
       "      <td>41.031941</td>\n",
       "      <td>-73.769376</td>\n",
       "    </tr>\n",
       "    <tr>\n",
       "      <th>1</th>\n",
       "      <td>Parkright 257 Gold Street - Tesla Destination</td>\n",
       "      <td>257  Gold St</td>\n",
       "      <td>40.696871</td>\n",
       "      <td>-73.983002</td>\n",
       "    </tr>\n",
       "    <tr>\n",
       "      <th>2</th>\n",
       "      <td>Serendipity Labs Inc. - Tesla Destination</td>\n",
       "      <td>80 Theodore Fremd Ave</td>\n",
       "      <td>40.983031</td>\n",
       "      <td>-73.687987</td>\n",
       "    </tr>\n",
       "    <tr>\n",
       "      <th>3</th>\n",
       "      <td>TONAWANDA YPR GOLF DOME 1</td>\n",
       "      <td>175 Brompton Rd</td>\n",
       "      <td>43.002586</td>\n",
       "      <td>-78.840640</td>\n",
       "    </tr>\n",
       "    <tr>\n",
       "      <th>4</th>\n",
       "      <td>ERIE COUNTY ECC SOUTH 2</td>\n",
       "      <td>Erie College Drive</td>\n",
       "      <td>42.771831</td>\n",
       "      <td>-78.796294</td>\n",
       "    </tr>\n",
       "    <tr>\n",
       "      <th>...</th>\n",
       "      <td>...</td>\n",
       "      <td>...</td>\n",
       "      <td>...</td>\n",
       "      <td>...</td>\n",
       "    </tr>\n",
       "    <tr>\n",
       "      <th>3071</th>\n",
       "      <td>The American Hotel-Sag Harbor - Tesla Destination</td>\n",
       "      <td>45 Main St</td>\n",
       "      <td>41.001268</td>\n",
       "      <td>-72.295030</td>\n",
       "    </tr>\n",
       "    <tr>\n",
       "      <th>3072</th>\n",
       "      <td>STATION 1 SCRIBNERS</td>\n",
       "      <td>13 Scribner Hollow Rd</td>\n",
       "      <td>42.203996</td>\n",
       "      <td>-74.196529</td>\n",
       "    </tr>\n",
       "    <tr>\n",
       "      <th>3073</th>\n",
       "      <td>HARMONY MILLS 1 WEST 2 2.5</td>\n",
       "      <td>50 N Mohawk St</td>\n",
       "      <td>42.778316</td>\n",
       "      <td>-73.702620</td>\n",
       "    </tr>\n",
       "    <tr>\n",
       "      <th>3074</th>\n",
       "      <td>Lake Mohonk</td>\n",
       "      <td>1000 Mountain Rest Road</td>\n",
       "      <td>41.769288</td>\n",
       "      <td>-74.157100</td>\n",
       "    </tr>\n",
       "    <tr>\n",
       "      <th>3075</th>\n",
       "      <td>WATERVLIET MUSEUM 3</td>\n",
       "      <td>1501 1st Ave</td>\n",
       "      <td>42.726226</td>\n",
       "      <td>-73.701207</td>\n",
       "    </tr>\n",
       "  </tbody>\n",
       "</table>\n",
       "<p>3076 rows × 4 columns</p>\n",
       "</div>"
      ],
      "text/plain": [
       "                                           Station Name  \\\n",
       "0               Westchester County Department of Health   \n",
       "1         Parkright 257 Gold Street - Tesla Destination   \n",
       "2             Serendipity Labs Inc. - Tesla Destination   \n",
       "3                             TONAWANDA YPR GOLF DOME 1   \n",
       "4                               ERIE COUNTY ECC SOUTH 2   \n",
       "...                                                 ...   \n",
       "3071  The American Hotel-Sag Harbor - Tesla Destination   \n",
       "3072                                STATION 1 SCRIBNERS   \n",
       "3073                         HARMONY MILLS 1 WEST 2 2.5   \n",
       "3074                                        Lake Mohonk   \n",
       "3075                                WATERVLIET MUSEUM 3   \n",
       "\n",
       "               Street Address   Latitude  Longitude  \n",
       "0                 134 Main St  41.031941 -73.769376  \n",
       "1                257  Gold St  40.696871 -73.983002  \n",
       "2       80 Theodore Fremd Ave  40.983031 -73.687987  \n",
       "3             175 Brompton Rd  43.002586 -78.840640  \n",
       "4          Erie College Drive  42.771831 -78.796294  \n",
       "...                       ...        ...        ...  \n",
       "3071               45 Main St  41.001268 -72.295030  \n",
       "3072    13 Scribner Hollow Rd  42.203996 -74.196529  \n",
       "3073           50 N Mohawk St  42.778316 -73.702620  \n",
       "3074  1000 Mountain Rest Road  41.769288 -74.157100  \n",
       "3075             1501 1st Ave  42.726226 -73.701207  \n",
       "\n",
       "[3076 rows x 4 columns]"
      ]
     },
     "execution_count": 2,
     "metadata": {},
     "output_type": "execute_result"
    }
   ],
   "source": [
    "#Connection to database\n",
    "\n",
    "import pandas as pd\n",
    "ev_data_primary = pd.read_csv ('Electric_Vehicle_Charging_Stations_in_New_York.csv')\n",
    "ev_data_primary\n",
    "\n",
    "ev_data = ev_data_primary[['Station Name', 'Street Address', 'Latitude', 'Longitude']].copy()\n",
    "ev_data"
   ]
  },
  {
   "cell_type": "code",
   "execution_count": 3,
   "metadata": {
    "id": "9sQzI5yX6a8j"
   },
   "outputs": [],
   "source": [
    "#!pip install BeautifulSoup4\n",
    "#!pip install Requests\n",
    "#!pip install Requests\n",
    "#!pip install lxml"
   ]
  },
  {
   "cell_type": "markdown",
   "metadata": {
    "id": "URnSy8yq76hE"
   },
   "source": [
    "# Process Inputs"
   ]
  },
  {
   "cell_type": "markdown",
   "metadata": {
    "id": "pqWWuR3J7zDi"
   },
   "source": []
  },
  {
   "cell_type": "code",
   "execution_count": 4,
   "metadata": {
    "colab": {
     "base_uri": "https://localhost:8080/"
    },
    "id": "ea80485c",
    "outputId": "de7a74cb-4ab0-44b2-ed03-e6788f743933"
   },
   "outputs": [
    {
     "name": "stdout",
     "output_type": "stream",
     "text": [
      "Requirement already satisfied: BeautifulSoup4 in /opt/anaconda3/lib/python3.7/site-packages (4.8.2)\n",
      "Requirement already satisfied: soupsieve>=1.2 in /opt/anaconda3/lib/python3.7/site-packages (from BeautifulSoup4) (1.9.5)\n",
      "\u001b[33mWARNING: There was an error checking the latest version of pip.\u001b[0m\u001b[33m\n",
      "\u001b[0mRequirement already satisfied: Requests in /opt/anaconda3/lib/python3.7/site-packages (2.22.0)\n",
      "Requirement already satisfied: idna<2.9,>=2.5 in /opt/anaconda3/lib/python3.7/site-packages (from Requests) (2.8)\n",
      "Requirement already satisfied: certifi>=2017.4.17 in /opt/anaconda3/lib/python3.7/site-packages (from Requests) (2019.11.28)\n",
      "Requirement already satisfied: urllib3!=1.25.0,!=1.25.1,<1.26,>=1.21.1 in /opt/anaconda3/lib/python3.7/site-packages (from Requests) (1.25.11)\n",
      "Requirement already satisfied: chardet<3.1.0,>=3.0.2 in /opt/anaconda3/lib/python3.7/site-packages (from Requests) (3.0.4)\n",
      "\u001b[33mWARNING: There was an error checking the latest version of pip.\u001b[0m\u001b[33m\n",
      "\u001b[0mRequirement already satisfied: Requests in /opt/anaconda3/lib/python3.7/site-packages (2.22.0)\n",
      "Requirement already satisfied: urllib3!=1.25.0,!=1.25.1,<1.26,>=1.21.1 in /opt/anaconda3/lib/python3.7/site-packages (from Requests) (1.25.11)\n",
      "Requirement already satisfied: chardet<3.1.0,>=3.0.2 in /opt/anaconda3/lib/python3.7/site-packages (from Requests) (3.0.4)\n",
      "Requirement already satisfied: idna<2.9,>=2.5 in /opt/anaconda3/lib/python3.7/site-packages (from Requests) (2.8)\n",
      "Requirement already satisfied: certifi>=2017.4.17 in /opt/anaconda3/lib/python3.7/site-packages (from Requests) (2019.11.28)\n",
      "\u001b[33mWARNING: There was an error checking the latest version of pip.\u001b[0m\u001b[33m\n",
      "\u001b[0mRequirement already satisfied: lxml in /opt/anaconda3/lib/python3.7/site-packages (4.5.0)\n",
      "\u001b[33mWARNING: There was an error checking the latest version of pip.\u001b[0m\u001b[33m\n",
      "\u001b[0m"
     ]
    }
   ],
   "source": [
    "#Process Input: Distance to station\n",
    "\n",
    "#1.1 Importing the model-mileage data\n",
    "!pip install BeautifulSoup4\n",
    "!pip install Requests\n",
    "!pip install Requests\n",
    "!pip install lxml\n",
    "#Commenting out because requirements satisfied\n",
    "\n",
    "#1.2 Import Libraries\n",
    "from bs4 import BeautifulSoup\n",
    "import requests\n",
    "import re\n",
    "import pandas as pd\n",
    "import random\n",
    "\n",
    "#1.3 url permissions + scraping\n",
    "url = \"https://ecocostsavings.com/electric-car-kwh-per-mile-list/\"\n",
    "page = requests.get(url)\n",
    "soup = BeautifulSoup(page.text , \"lxml\")\n",
    "# print(soup.prettify) #Used this line to inspect the html\n",
    "\n",
    "#1.4 Making the table\n",
    "#Scrape the table\n",
    "gdp = soup.find_all(\"figure\" , attrs = {\"class\" : \"wp-block-table\"})\n",
    "table1 = gdp[0]\n",
    "body = table1.find_all(\"tr\")\n",
    "head = body[0]\n",
    "body_rows = body[1:]\n",
    "#Get the header formatted\n",
    "headings = []\n",
    "for item in head.find_all(\"td\"): \n",
    "    item = (item.text).rstrip(\"\\n\")\n",
    "    headings.append(item)\n",
    "#Get the rows\n",
    "all_rows = [] # will be a list for list for all rows\n",
    "for row_num in range(len(body_rows)): # A row at a time\n",
    "    row = [] # this will hold entries for one row\n",
    "    for row_item in body_rows[row_num].find_all(\"td\"):\n",
    "        aa = re.sub(\"(\\xa0)|(\\n)|,\",\"\",row_item.text)\n",
    "        row.append(aa)\n",
    "    all_rows.append(row)\n",
    "#Bring it together\n",
    "car_mileage = pd.DataFrame(data=all_rows,columns=headings)\n",
    "car_mileage.head() #This is to check that the dataframe is formatted correctly\n",
    "\n",
    "#2.1 The random generator for user location \n",
    "#Get the min and max long & lat from the nyc stations data\n",
    "lat_min = ev_data[\"Latitude\"].min() \n",
    "lat_max = ev_data[\"Latitude\"].max() \n",
    "lon_min = ev_data[\"Longitude\"].min() \n",
    "lon_max = ev_data[\"Longitude\"].max() \n",
    "#Get a random number within those bounds\n",
    "user_lat = random.uniform(\n",
    "    lat_min , lat_max\n",
    ")\n",
    "user_lon = random.uniform(\n",
    "    lon_min , lon_max\n",
    ")"
   ]
  },
  {
   "cell_type": "code",
   "execution_count": 5,
   "metadata": {
    "colab": {
     "base_uri": "https://localhost:8080/",
     "height": 206
    },
    "id": "25VTmuH39dJ5",
    "outputId": "7556bdf1-332d-4123-f9ad-1187cf1767a3"
   },
   "outputs": [
    {
     "data": {
      "text/html": [
       "<div>\n",
       "<style scoped>\n",
       "    .dataframe tbody tr th:only-of-type {\n",
       "        vertical-align: middle;\n",
       "    }\n",
       "\n",
       "    .dataframe tbody tr th {\n",
       "        vertical-align: top;\n",
       "    }\n",
       "\n",
       "    .dataframe thead th {\n",
       "        text-align: right;\n",
       "    }\n",
       "</style>\n",
       "<table border=\"1\" class=\"dataframe\">\n",
       "  <thead>\n",
       "    <tr style=\"text-align: right;\">\n",
       "      <th></th>\n",
       "      <th>Electric car model</th>\n",
       "      <th>kWh per mile</th>\n",
       "      <th>kWh per kilometer</th>\n",
       "    </tr>\n",
       "  </thead>\n",
       "  <tbody>\n",
       "    <tr>\n",
       "      <th>0</th>\n",
       "      <td>2020 Tesla Model 3 Standard Range Plus</td>\n",
       "      <td>0.24 kWh/mi</td>\n",
       "      <td>0.15 kWh/km</td>\n",
       "    </tr>\n",
       "    <tr>\n",
       "      <th>1</th>\n",
       "      <td>2021 Tesla Model 3 Standard Range Plus RWD</td>\n",
       "      <td>0.24 kWh/mi</td>\n",
       "      <td>0.15 kWh/km</td>\n",
       "    </tr>\n",
       "    <tr>\n",
       "      <th>2</th>\n",
       "      <td>2019 Tesla Model 3 Standard Range Plus</td>\n",
       "      <td>0.25 kWh/mi</td>\n",
       "      <td>0.16 kWh/km</td>\n",
       "    </tr>\n",
       "    <tr>\n",
       "      <th>3</th>\n",
       "      <td>2022 Tesla Model 3 RWD</td>\n",
       "      <td>0.25 kWh/mi</td>\n",
       "      <td>0.16 kWh/km</td>\n",
       "    </tr>\n",
       "    <tr>\n",
       "      <th>4</th>\n",
       "      <td>2018 Hyundai Ioniq Electric</td>\n",
       "      <td>0.25 kWh/mi</td>\n",
       "      <td>0.16 kWh/km</td>\n",
       "    </tr>\n",
       "  </tbody>\n",
       "</table>\n",
       "</div>"
      ],
      "text/plain": [
       "                           Electric car model kWh per mile kWh per kilometer\n",
       "0      2020 Tesla Model 3 Standard Range Plus  0.24 kWh/mi       0.15 kWh/km\n",
       "1  2021 Tesla Model 3 Standard Range Plus RWD  0.24 kWh/mi       0.15 kWh/km\n",
       "2      2019 Tesla Model 3 Standard Range Plus  0.25 kWh/mi       0.16 kWh/km\n",
       "3                      2022 Tesla Model 3 RWD  0.25 kWh/mi      0.16 kWh/km \n",
       "4                 2018 Hyundai Ioniq Electric  0.25 kWh/mi       0.16 kWh/km"
      ]
     },
     "execution_count": 5,
     "metadata": {},
     "output_type": "execute_result"
    }
   ],
   "source": [
    "#1.1 Importing the model-mileage data\n",
    "#!pip install BeautifulSoup4\n",
    "#!pip install Requests\n",
    "#!pip install Requests\n",
    "#!pip install lxml\n",
    "#Commenting out because requirements satisfied\n",
    "\n",
    "#1.2 Import Libraries\n",
    "from bs4 import BeautifulSoup\n",
    "import requests\n",
    "import re\n",
    "import pandas as pd\n",
    "\n",
    "#1.3 url permissions + scraping\n",
    "url = \"https://ecocostsavings.com/electric-car-kwh-per-mile-list/\"\n",
    "page = requests.get(url)\n",
    "soup = BeautifulSoup(page.text , \"lxml\")\n",
    "# print(soup.prettify) #Used this line to inspect the html\n",
    "\n",
    "#1.4 Making the table\n",
    "#Scrape the table\n",
    "gdp = soup.find_all(\"figure\" , attrs = {\"class\" : \"wp-block-table\"})\n",
    "table1 = gdp[0]\n",
    "body = table1.find_all(\"tr\")\n",
    "head = body[0]\n",
    "body_rows = body[1:]\n",
    "#Get the header formatted\n",
    "headings = []\n",
    "for item in head.find_all(\"td\"): \n",
    "    item = (item.text).rstrip(\"\\n\")\n",
    "    headings.append(item)\n",
    "#Get the rows\n",
    "all_rows = [] # will be a list for list for all rows\n",
    "for row_num in range(len(body_rows)): # A row at a time\n",
    "    row = [] # this will hold entries for one row\n",
    "    for row_item in body_rows[row_num].find_all(\"td\"):\n",
    "        aa = re.sub(\"(\\xa0)|(\\n)|,\",\"\",row_item.text)\n",
    "        row.append(aa)\n",
    "    all_rows.append(row)\n",
    "#Bring it together\n",
    "car_mileage = pd.DataFrame(data=all_rows,columns=headings)\n",
    "car_mileage.head() #This is to check that the dataframe is formatted correctly"
   ]
  },
  {
   "cell_type": "code",
   "execution_count": 6,
   "metadata": {
    "colab": {
     "base_uri": "https://localhost:8080/"
    },
    "id": "21af823d",
    "outputId": "fe75f634-0f2f-416f-89f0-42fbaf21244a"
   },
   "outputs": [
    {
     "name": "stdout",
     "output_type": "stream",
     "text": [
      "Enter battery capacity: 70\n",
      "Enter your current charge level: 80\n",
      "Enter your car model name: 2020 Tesla Model 3 Standard Range Plus\n"
     ]
    }
   ],
   "source": [
    "#Process Input: user input variables\n",
    "\n",
    "#Defining the variables \n",
    "cap = int(input(\"Enter battery capacity: \")) #charging capacity of each car\n",
    "charge = int(input(\"Enter your current charge level: \")) #chareg level\n",
    "C=cap*charge\n",
    "model = input(\"Enter your car model name: \") #Exact model name of the car"
   ]
  },
  {
   "cell_type": "code",
   "execution_count": 7,
   "metadata": {
    "id": "gaws2Xvd7bYI"
   },
   "outputs": [],
   "source": [
    "car=car_mileage[car_mileage['Electric car model'].str.contains(model)]\n",
    "#Extracting the mileage in kWh/mi\n",
    "mileage1=car[\"kWh per mile\"]\n",
    "unit1 = \"kWh/mi\"\n",
    "  \n",
    "# Remove Units from Value List\n",
    "# Using list comprehension + regex()\n",
    "m1 = re.findall('\\d+', ' '.join(mileage1))\n",
    "m1=int(m1[1])\n",
    "#m1\n",
    "\n",
    "#Extracting the mileage in kWh/km\n",
    "mileage2=car[\"kWh per kilometer\"]\n",
    "unit2 = \"kWh/km\"\n",
    "  \n",
    "# Remove Units from Value List\n",
    "# Using list comprehension + regex()\n",
    "m2 = re.findall('\\d+', ' '.join(mileage2))\n",
    "m2=int(m2[1])\n",
    "#m2\n"
   ]
  },
  {
   "cell_type": "markdown",
   "metadata": {
    "id": "2e5eefbf"
   },
   "source": [
    "Process Pipeline"
   ]
  },
  {
   "cell_type": "code",
   "execution_count": 8,
   "metadata": {
    "id": "7877e5a0"
   },
   "outputs": [],
   "source": [
    "#Process Pipeline: mileage left with given battery level\n",
    "\n",
    "import pymongo\n",
    "import pandas as pd\n",
    "import json as json"
   ]
  },
  {
   "cell_type": "code",
   "execution_count": 9,
   "metadata": {
    "id": "A6jEKVLE7dv6"
   },
   "outputs": [],
   "source": [
    "from pymongo import MongoClient\n",
    "client = MongoClient('localhost',27017) ## or MongoClient(\"localhost:27\")\n",
    "db = client.apan5400\n",
    "collection = db.car"
   ]
  },
  {
   "cell_type": "code",
   "execution_count": 10,
   "metadata": {
    "colab": {
     "base_uri": "https://localhost:8080/",
     "height": 353
    },
    "id": "8j85CY6f7fYw",
    "outputId": "f5907c2f-8b26-4e0d-9841-1e4496b791b8"
   },
   "outputs": [],
   "source": [
    "collection.drop()"
   ]
  },
  {
   "cell_type": "code",
   "execution_count": 11,
   "metadata": {
    "colab": {
     "base_uri": "https://localhost:8080/",
     "height": 187
    },
    "id": "0r06-Wkd7iFp",
    "outputId": "1a2f0e59-3409-4c13-8490-bd8b72ce8f0d"
   },
   "outputs": [],
   "source": [
    "with open('car.json') as file:\n",
    "    file_data = json.load(file)"
   ]
  },
  {
   "cell_type": "code",
   "execution_count": 12,
   "metadata": {
    "id": "GE_RYS6b7igD"
   },
   "outputs": [
    {
     "data": {
      "text/plain": [
       "<pymongo.results.InsertManyResult at 0x7f82c136e110>"
      ]
     },
     "execution_count": 12,
     "metadata": {},
     "output_type": "execute_result"
    }
   ],
   "source": [
    "collection.insert_many(file_data) #collection created"
   ]
  },
  {
   "cell_type": "code",
   "execution_count": 13,
   "metadata": {
    "id": "Io5S0B2p7loE"
   },
   "outputs": [
    {
     "name": "stdout",
     "output_type": "stream",
     "text": [
      "Mileage for your car in kWh/mile: 0.24\n",
      "Mileage for your car in kWh/km: 0    0.24 kWh/mi\n",
      "Name: kWh per mile, dtype: object\n",
      "You have 218.75 miles left with you current battery level\n",
      "You have 350.0 kiometers left with you current battery level\n",
      "You are good to keep going!\n"
     ]
    }
   ],
   "source": [
    "mileage=0\n",
    "char=0\n",
    "for y in collection.find({\"Electric Car Model\":model}):\n",
    "    mileage+=y[\"kWh per mile\"]\n",
    "    for x in collection.find({\"Electric Car Model\":model}):\n",
    "        char+=x[\"battery\"]\n",
    "        C=(cap*char)/100\n",
    "        D=C/mileage\n",
    "        D1=D*1.6\n",
    "print(\"Mileage for your car in kWh/mile:\",mileage)\n",
    "print(\"Mileage for your car in kWh/km:\",mileage1)\n",
    "print(\"You have\",round(D,3),\"miles left with you current battery level\")\n",
    "print(\"You have\",round(D1,3),\"kiometers left with you current battery level\")\n",
    "\n",
    "if mileage > 50:\n",
    "    print(\"Please your vehicle charge now!\")\n",
    "else:\n",
    "    print(\"You are good to keep going!\")"
   ]
  },
  {
   "cell_type": "code",
   "execution_count": 14,
   "metadata": {
    "id": "Yso1jggg61MI"
   },
   "outputs": [
    {
     "name": "stdout",
     "output_type": "stream",
     "text": [
      "                         Station Name        Street Address   Latitude  \\\n",
      "1190  Great Pines - Tesla Destination  4920  State Route 28  43.758812   \n",
      "\n",
      "      Longitude  Distance  \n",
      "1190 -74.859153  3.032996  \n"
     ]
    }
   ],
   "source": [
    "#Process pipeline: distance to station\n",
    "\n",
    "#Import\n",
    "from numpy import cos, sin, arcsin, sqrt\n",
    "from math import radians\n",
    "\n",
    "#First, make a spare dataframe to mess with for lon/lat calculations\n",
    "data_coord = ev_data\n",
    "\n",
    "#Then, we need to make a custom function that will calculate the distances for us\n",
    "def haversine(data_coord):\n",
    "    lon1 = user_lon\n",
    "    lat1 = user_lat\n",
    "    lon2 = data_coord['Longitude']\n",
    "    lat2 = data_coord['Latitude']\n",
    "    lon1, lat1, lon2, lat2 = map(radians, [lon1, lat1, lon2, lat2])\n",
    "    dlon = lon2 - lon1 \n",
    "    dlat = lat2 - lat1 \n",
    "    a = sin(dlat/2)**2 + cos(lat1) * cos(lat2) * sin(dlon/2)**2\n",
    "    c = 2 * arcsin(sqrt(a)) \n",
    "    km = 6367 * c\n",
    "    return km\n",
    "\n",
    "#Then we apply the calculated distances to the existing dataframe\n",
    "data_coord['Distance'] = data_coord.apply(lambda row: haversine(row), axis=1)\n",
    "\n",
    "#The last step is to print the row with the lowest distance\n",
    "print(data_coord[data_coord.Distance == data_coord.Distance.min()])"
   ]
  },
  {
   "cell_type": "markdown",
   "metadata": {
    "id": "8d2a82f4"
   },
   "source": [
    "Flask App for Interface design"
   ]
  },
  {
   "cell_type": "code",
   "execution_count": 15,
   "metadata": {
    "id": "8HIFEBNVQrgA"
   },
   "outputs": [],
   "source": [
    "#Connection to Flask\n",
    "\n",
    "from flask import Flask\n",
    "from pymongo import MongoClient\n",
    "\n",
    "app = Flask(__name__)\n",
    "\n",
    "client = MongoClient('localhost', 27017)\n",
    "\n",
    "db = client.data_coord\n",
    "todos = db.todos"
   ]
  },
  {
   "cell_type": "code",
   "execution_count": null,
   "metadata": {
    "id": "f2ONbFBfQLuH"
   },
   "outputs": [],
   "source": [
    "\n",
    "from flask import Flask, render_template, request, url_for, redirect\n",
    "from pymongo import MongoClient\n",
    "\n",
    "@app.route('/', methods=('GET', 'POST'))\n",
    "def index():\n",
    "    return render_template('index.html')"
   ]
  },
  {
   "cell_type": "code",
   "execution_count": null,
   "metadata": {
    "id": "Ua-DIP2FEWt_"
   },
   "outputs": [],
   "source": [
    "app = Flask(__name__)\n",
    "\n",
    "@app.route('/')\n",
    "def my_form():\n",
    "    return render_template(\"car_template.html\")\n",
    "\n",
    "@app.route('/', methods=['POST'])\n",
    "def my_form_post():\n",
    "    val = request.form['userinput']\n",
    "    processed_text = df[df.title.str.contains (val)]\n",
    "    return str(processed_text)"
   ]
  },
  {
   "cell_type": "code",
   "execution_count": null,
   "metadata": {
    "colab": {
     "base_uri": "https://localhost:8080/",
     "height": 496
    },
    "id": "JSI1X1GREaBN",
    "outputId": "1d02ff46-b9bd-4b5a-d651-ea108e3cda1b"
   },
   "outputs": [
    {
     "name": "stdout",
     "output_type": "stream",
     "text": [
      " * Serving Flask app \"__main__\" (lazy loading)\n",
      " * Environment: production\n",
      "\u001b[31m   WARNING: This is a development server. Do not use it in a production deployment.\u001b[0m\n",
      "\u001b[2m   Use a production WSGI server instead.\u001b[0m\n",
      " * Debug mode: on\n"
     ]
    },
    {
     "ename": "OSError",
     "evalue": "ignored",
     "output_type": "error",
     "traceback": [
      "\u001b[0;31m---------------------------------------------------------------------------\u001b[0m",
      "\u001b[0;31mOSError\u001b[0m                                   Traceback (most recent call last)",
      "\u001b[0;32m<ipython-input-21-24442a65041d>\u001b[0m in \u001b[0;36m<module>\u001b[0;34m\u001b[0m\n\u001b[0;32m----> 1\u001b[0;31m \u001b[0mapp\u001b[0m\u001b[0;34m.\u001b[0m\u001b[0mrun\u001b[0m\u001b[0;34m(\u001b[0m\u001b[0mhost\u001b[0m\u001b[0;34m=\u001b[0m\u001b[0;34m'localhost'\u001b[0m\u001b[0;34m,\u001b[0m \u001b[0mport\u001b[0m\u001b[0;34m=\u001b[0m\u001b[0;36m5000\u001b[0m\u001b[0;34m)\u001b[0m\u001b[0;34m\u001b[0m\u001b[0;34m\u001b[0m\u001b[0m\n\u001b[0m\u001b[1;32m      2\u001b[0m \u001b[0;34m\u001b[0m\u001b[0m\n\u001b[1;32m      3\u001b[0m \u001b[0;32mif\u001b[0m \u001b[0m__name__\u001b[0m \u001b[0;34m==\u001b[0m \u001b[0;34m\"__main__\"\u001b[0m\u001b[0;34m:\u001b[0m\u001b[0;34m\u001b[0m\u001b[0;34m\u001b[0m\u001b[0m\n\u001b[1;32m      4\u001b[0m     \u001b[0mapp\u001b[0m\u001b[0;34m.\u001b[0m\u001b[0mrun\u001b[0m\u001b[0;34m(\u001b[0m\u001b[0mdebug\u001b[0m\u001b[0;34m=\u001b[0m\u001b[0;32mTrue\u001b[0m\u001b[0;34m)\u001b[0m\u001b[0;34m\u001b[0m\u001b[0;34m\u001b[0m\u001b[0m\n\u001b[1;32m      5\u001b[0m \u001b[0;34m\u001b[0m\u001b[0m\n",
      "\u001b[0;32m/usr/local/lib/python3.7/dist-packages/flask/app.py\u001b[0m in \u001b[0;36mrun\u001b[0;34m(self, host, port, debug, load_dotenv, **options)\u001b[0m\n\u001b[1;32m    988\u001b[0m \u001b[0;34m\u001b[0m\u001b[0m\n\u001b[1;32m    989\u001b[0m         \u001b[0;32mtry\u001b[0m\u001b[0;34m:\u001b[0m\u001b[0;34m\u001b[0m\u001b[0;34m\u001b[0m\u001b[0m\n\u001b[0;32m--> 990\u001b[0;31m             \u001b[0mrun_simple\u001b[0m\u001b[0;34m(\u001b[0m\u001b[0mhost\u001b[0m\u001b[0;34m,\u001b[0m \u001b[0mport\u001b[0m\u001b[0;34m,\u001b[0m \u001b[0mself\u001b[0m\u001b[0;34m,\u001b[0m \u001b[0;34m**\u001b[0m\u001b[0moptions\u001b[0m\u001b[0;34m)\u001b[0m\u001b[0;34m\u001b[0m\u001b[0;34m\u001b[0m\u001b[0m\n\u001b[0m\u001b[1;32m    991\u001b[0m         \u001b[0;32mfinally\u001b[0m\u001b[0;34m:\u001b[0m\u001b[0;34m\u001b[0m\u001b[0;34m\u001b[0m\u001b[0m\n\u001b[1;32m    992\u001b[0m             \u001b[0;31m# reset the first request information if the development server\u001b[0m\u001b[0;34m\u001b[0m\u001b[0;34m\u001b[0m\u001b[0;34m\u001b[0m\u001b[0m\n",
      "\u001b[0;32m/usr/local/lib/python3.7/dist-packages/werkzeug/serving.py\u001b[0m in \u001b[0;36mrun_simple\u001b[0;34m(hostname, port, application, use_reloader, use_debugger, use_evalex, extra_files, reloader_interval, reloader_type, threaded, processes, request_handler, static_files, passthrough_errors, ssl_context)\u001b[0m\n\u001b[1;32m   1028\u001b[0m             \u001b[0ms\u001b[0m \u001b[0;34m=\u001b[0m \u001b[0msocket\u001b[0m\u001b[0;34m.\u001b[0m\u001b[0msocket\u001b[0m\u001b[0;34m(\u001b[0m\u001b[0maddress_family\u001b[0m\u001b[0;34m,\u001b[0m \u001b[0msocket\u001b[0m\u001b[0;34m.\u001b[0m\u001b[0mSOCK_STREAM\u001b[0m\u001b[0;34m)\u001b[0m\u001b[0;34m\u001b[0m\u001b[0;34m\u001b[0m\u001b[0m\n\u001b[1;32m   1029\u001b[0m             \u001b[0ms\u001b[0m\u001b[0;34m.\u001b[0m\u001b[0msetsockopt\u001b[0m\u001b[0;34m(\u001b[0m\u001b[0msocket\u001b[0m\u001b[0;34m.\u001b[0m\u001b[0mSOL_SOCKET\u001b[0m\u001b[0;34m,\u001b[0m \u001b[0msocket\u001b[0m\u001b[0;34m.\u001b[0m\u001b[0mSO_REUSEADDR\u001b[0m\u001b[0;34m,\u001b[0m \u001b[0;36m1\u001b[0m\u001b[0;34m)\u001b[0m\u001b[0;34m\u001b[0m\u001b[0;34m\u001b[0m\u001b[0m\n\u001b[0;32m-> 1030\u001b[0;31m             \u001b[0ms\u001b[0m\u001b[0;34m.\u001b[0m\u001b[0mbind\u001b[0m\u001b[0;34m(\u001b[0m\u001b[0mserver_address\u001b[0m\u001b[0;34m)\u001b[0m\u001b[0;34m\u001b[0m\u001b[0;34m\u001b[0m\u001b[0m\n\u001b[0m\u001b[1;32m   1031\u001b[0m             \u001b[0;32mif\u001b[0m \u001b[0mhasattr\u001b[0m\u001b[0;34m(\u001b[0m\u001b[0ms\u001b[0m\u001b[0;34m,\u001b[0m \u001b[0;34m\"set_inheritable\"\u001b[0m\u001b[0;34m)\u001b[0m\u001b[0;34m:\u001b[0m\u001b[0;34m\u001b[0m\u001b[0;34m\u001b[0m\u001b[0m\n\u001b[1;32m   1032\u001b[0m                 \u001b[0ms\u001b[0m\u001b[0;34m.\u001b[0m\u001b[0mset_inheritable\u001b[0m\u001b[0;34m(\u001b[0m\u001b[0;32mTrue\u001b[0m\u001b[0;34m)\u001b[0m\u001b[0;34m\u001b[0m\u001b[0;34m\u001b[0m\u001b[0m\n",
      "\u001b[0;31mOSError\u001b[0m: [Errno 98] Address already in use"
     ]
    }
   ],
   "source": [
    "app.run(host='localhost', port=5000)\n",
    "\n",
    "if __name__ == \"__main__\": \n",
    "    app.run(debug=True)\n",
    "\n",
    "#We iterated through multiple ways to configure MongoDB to accept our remote connection. \n",
    "#Notably, we tried Blueprint to organize our python files and then query from the userinput.\n",
    "#However, we were unable to establish the connection in the end. \n",
    "#Yet you will be able to play with the userinput feauture in the above code cells, which is what we had hoped to pass to car template.\n",
    "#For more details, please see the 'output' and 'car template' htmls for a sample of what we were trying to accomplish."
   ]
  }
 ],
 "metadata": {
  "colab": {
   "collapsed_sections": [],
   "name": "EV_FINAL_8.15.ipynb",
   "provenance": []
  },
  "kernelspec": {
   "display_name": "Python 3",
   "language": "python",
   "name": "python3"
  },
  "language_info": {
   "codemirror_mode": {
    "name": "ipython",
    "version": 3
   },
   "file_extension": ".py",
   "mimetype": "text/x-python",
   "name": "python",
   "nbconvert_exporter": "python",
   "pygments_lexer": "ipython3",
   "version": "3.7.6"
  }
 },
 "nbformat": 4,
 "nbformat_minor": 5
}
