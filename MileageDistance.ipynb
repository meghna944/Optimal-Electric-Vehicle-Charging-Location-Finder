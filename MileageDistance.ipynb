{
 "cells": [
  {
   "cell_type": "code",
   "execution_count": 1,
   "metadata": {},
   "outputs": [
    {
     "name": "stdout",
     "output_type": "stream",
     "text": [
      "Requirement already satisfied: BeautifulSoup4 in /opt/anaconda3/lib/python3.7/site-packages (4.8.2)\n",
      "Requirement already satisfied: soupsieve>=1.2 in /opt/anaconda3/lib/python3.7/site-packages (from BeautifulSoup4) (1.9.5)\n",
      "\u001b[33mWARNING: There was an error checking the latest version of pip.\u001b[0m\u001b[33m\n",
      "\u001b[0mRequirement already satisfied: Requests in /opt/anaconda3/lib/python3.7/site-packages (2.22.0)\n",
      "Requirement already satisfied: certifi>=2017.4.17 in /opt/anaconda3/lib/python3.7/site-packages (from Requests) (2019.11.28)\n",
      "Collecting urllib3!=1.25.0,!=1.25.1,<1.26,>=1.21.1\n",
      "  Downloading urllib3-1.25.11-py2.py3-none-any.whl (127 kB)\n",
      "\u001b[2K     \u001b[90m━━━━━━━━━━━━━━━━━━━━━━━━━━━━━━━━━━━━━━━\u001b[0m \u001b[32m128.0/128.0 kB\u001b[0m \u001b[31m1.5 MB/s\u001b[0m eta \u001b[36m0:00:00\u001b[0ma \u001b[36m0:00:01\u001b[0m\n",
      "\u001b[?25hRequirement already satisfied: idna<2.9,>=2.5 in /opt/anaconda3/lib/python3.7/site-packages (from Requests) (2.8)\n",
      "Requirement already satisfied: chardet<3.1.0,>=3.0.2 in /opt/anaconda3/lib/python3.7/site-packages (from Requests) (3.0.4)\n",
      "Installing collected packages: urllib3\n",
      "  Attempting uninstall: urllib3\n",
      "    Found existing installation: urllib3 1.26.10\n",
      "    Uninstalling urllib3-1.26.10:\n",
      "      Successfully uninstalled urllib3-1.26.10\n",
      "\u001b[31mERROR: pip's dependency resolver does not currently take into account all the packages that are installed. This behaviour is the source of the following dependency conflicts.\n",
      "elastic-transport 8.1.2 requires urllib3<2,>=1.26.2, but you have urllib3 1.25.11 which is incompatible.\u001b[0m\u001b[31m\n",
      "\u001b[0mSuccessfully installed urllib3-1.25.11\n",
      "\u001b[33mWARNING: There was an error checking the latest version of pip.\u001b[0m\u001b[33m\n",
      "\u001b[0mRequirement already satisfied: Requests in /opt/anaconda3/lib/python3.7/site-packages (2.22.0)\n",
      "Requirement already satisfied: urllib3!=1.25.0,!=1.25.1,<1.26,>=1.21.1 in /opt/anaconda3/lib/python3.7/site-packages (from Requests) (1.25.11)\n",
      "Requirement already satisfied: certifi>=2017.4.17 in /opt/anaconda3/lib/python3.7/site-packages (from Requests) (2019.11.28)\n",
      "Requirement already satisfied: chardet<3.1.0,>=3.0.2 in /opt/anaconda3/lib/python3.7/site-packages (from Requests) (3.0.4)\n",
      "Requirement already satisfied: idna<2.9,>=2.5 in /opt/anaconda3/lib/python3.7/site-packages (from Requests) (2.8)\n",
      "\u001b[33mWARNING: There was an error checking the latest version of pip.\u001b[0m\u001b[33m\n",
      "\u001b[0mRequirement already satisfied: lxml in /opt/anaconda3/lib/python3.7/site-packages (4.5.0)\n",
      "\u001b[33mWARNING: There was an error checking the latest version of pip.\u001b[0m\u001b[33m\n",
      "\u001b[0m"
     ]
    }
   ],
   "source": [
    "#!pip install BeautifulSoup4\n",
    "#!pip install Requests\n",
    "#!pip install Requests\n",
    "#!pip install lxml"
   ]
  },
  {
   "cell_type": "code",
   "execution_count": 1,
   "metadata": {},
   "outputs": [
    {
     "data": {
      "text/html": [
       "<div>\n",
       "<style scoped>\n",
       "    .dataframe tbody tr th:only-of-type {\n",
       "        vertical-align: middle;\n",
       "    }\n",
       "\n",
       "    .dataframe tbody tr th {\n",
       "        vertical-align: top;\n",
       "    }\n",
       "\n",
       "    .dataframe thead th {\n",
       "        text-align: right;\n",
       "    }\n",
       "</style>\n",
       "<table border=\"1\" class=\"dataframe\">\n",
       "  <thead>\n",
       "    <tr style=\"text-align: right;\">\n",
       "      <th></th>\n",
       "      <th>Electric car model</th>\n",
       "      <th>kWh per mile</th>\n",
       "      <th>kWh per kilometer</th>\n",
       "    </tr>\n",
       "  </thead>\n",
       "  <tbody>\n",
       "    <tr>\n",
       "      <th>0</th>\n",
       "      <td>2020 Tesla Model 3 Standard Range Plus</td>\n",
       "      <td>0.24 kWh/mi</td>\n",
       "      <td>0.15 kWh/km</td>\n",
       "    </tr>\n",
       "    <tr>\n",
       "      <th>1</th>\n",
       "      <td>2021 Tesla Model 3 Standard Range Plus RWD</td>\n",
       "      <td>0.24 kWh/mi</td>\n",
       "      <td>0.15 kWh/km</td>\n",
       "    </tr>\n",
       "    <tr>\n",
       "      <th>2</th>\n",
       "      <td>2019 Tesla Model 3 Standard Range Plus</td>\n",
       "      <td>0.25 kWh/mi</td>\n",
       "      <td>0.16 kWh/km</td>\n",
       "    </tr>\n",
       "    <tr>\n",
       "      <th>3</th>\n",
       "      <td>2022 Tesla Model 3 RWD</td>\n",
       "      <td>0.25 kWh/mi</td>\n",
       "      <td>0.16 kWh/km</td>\n",
       "    </tr>\n",
       "    <tr>\n",
       "      <th>4</th>\n",
       "      <td>2018 Hyundai Ioniq Electric</td>\n",
       "      <td>0.25 kWh/mi</td>\n",
       "      <td>0.16 kWh/km</td>\n",
       "    </tr>\n",
       "  </tbody>\n",
       "</table>\n",
       "</div>"
      ],
      "text/plain": [
       "                           Electric car model kWh per mile kWh per kilometer\n",
       "0      2020 Tesla Model 3 Standard Range Plus  0.24 kWh/mi       0.15 kWh/km\n",
       "1  2021 Tesla Model 3 Standard Range Plus RWD  0.24 kWh/mi       0.15 kWh/km\n",
       "2      2019 Tesla Model 3 Standard Range Plus  0.25 kWh/mi       0.16 kWh/km\n",
       "3                      2022 Tesla Model 3 RWD  0.25 kWh/mi      0.16 kWh/km \n",
       "4                 2018 Hyundai Ioniq Electric  0.25 kWh/mi       0.16 kWh/km"
      ]
     },
     "execution_count": 1,
     "metadata": {},
     "output_type": "execute_result"
    }
   ],
   "source": [
    "##Process 3 input\n",
    "    #Thibault\n",
    "\n",
    "#1.1 Importing the model-mileage data\n",
    "#!pip install BeautifulSoup4\n",
    "#!pip install Requests\n",
    "#!pip install Requests\n",
    "#!pip install lxml\n",
    "#Commenting out because requirements satisfied\n",
    "\n",
    "#1.2 Import Libraries\n",
    "from bs4 import BeautifulSoup\n",
    "import requests\n",
    "import re\n",
    "import pandas as pd\n",
    "\n",
    "#1.3 url permissions + scraping\n",
    "url = \"https://ecocostsavings.com/electric-car-kwh-per-mile-list/\"\n",
    "page = requests.get(url)\n",
    "soup = BeautifulSoup(page.text , \"lxml\")\n",
    "# print(soup.prettify) #Used this line to inspect the html\n",
    "\n",
    "#1.4 Making the table\n",
    "#Scrape the table\n",
    "gdp = soup.find_all(\"figure\" , attrs = {\"class\" : \"wp-block-table\"})\n",
    "table1 = gdp[0]\n",
    "body = table1.find_all(\"tr\")\n",
    "head = body[0]\n",
    "body_rows = body[1:]\n",
    "#Get the header formatted\n",
    "headings = []\n",
    "for item in head.find_all(\"td\"): \n",
    "    item = (item.text).rstrip(\"\\n\")\n",
    "    headings.append(item)\n",
    "#Get the rows\n",
    "all_rows = [] # will be a list for list for all rows\n",
    "for row_num in range(len(body_rows)): # A row at a time\n",
    "    row = [] # this will hold entries for one row\n",
    "    for row_item in body_rows[row_num].find_all(\"td\"):\n",
    "        aa = re.sub(\"(\\xa0)|(\\n)|,\",\"\",row_item.text)\n",
    "        row.append(aa)\n",
    "    all_rows.append(row)\n",
    "#Bring it together\n",
    "car_mileage = pd.DataFrame(data=all_rows,columns=headings)\n",
    "car_mileage.head() #This is to check that the dataframe is formatted correctly"
   ]
  },
  {
   "cell_type": "code",
   "execution_count": 2,
   "metadata": {},
   "outputs": [
    {
     "name": "stdout",
     "output_type": "stream",
     "text": [
      "Enter battery capacity: 70\n",
      "Enter your current charge level: 70\n",
      "Enter your car model name: 2020 Tesla Model 3 Standard Range Plus\n"
     ]
    }
   ],
   "source": [
    "#Defining the variables \n",
    "cap = int(input(\"Enter battery capacity: \")) #charging capacity of each car\n",
    "charge = int(input(\"Enter your current charge level: \")) #chareg level\n",
    "C=cap*charge\n",
    "model = input(\"Enter your car model name: \") #Exact model name of the car\n"
   ]
  },
  {
   "cell_type": "code",
   "execution_count": 3,
   "metadata": {},
   "outputs": [],
   "source": [
    "car=car_mileage[car_mileage['Electric car model'].str.contains(model)]\n",
    "#Extracting the mileage in kWh/mi\n",
    "mileage1=car[\"kWh per mile\"]\n",
    "unit1 = \"kWh/mi\"\n",
    "  \n",
    "# Remove Units from Value List\n",
    "# Using list comprehension + regex()\n",
    "m1 = re.findall('\\d+', ' '.join(mileage1))\n",
    "m1=int(m1[1])\n",
    "#m1\n",
    "\n",
    "#Extracting the mileage in kWh/km\n",
    "mileage2=car[\"kWh per kilometer\"]\n",
    "unit2 = \"kWh/km\"\n",
    "  \n",
    "# Remove Units from Value List\n",
    "# Using list comprehension + regex()\n",
    "m2 = re.findall('\\d+', ' '.join(mileage2))\n",
    "m2=int(m2[1])\n",
    "#m2\n"
   ]
  },
  {
   "cell_type": "code",
   "execution_count": 5,
   "metadata": {},
   "outputs": [],
   "source": [
    "import pymongo\n",
    "import pandas as pd\n",
    "import json as json"
   ]
  },
  {
   "cell_type": "code",
   "execution_count": 6,
   "metadata": {},
   "outputs": [],
   "source": [
    "from pymongo import MongoClient\n",
    "client = MongoClient('localhost',27017) ## or MongoClient(\"localhost:27\")\n",
    "db = client.apan5400\n",
    "collection = db.car"
   ]
  },
  {
   "cell_type": "code",
   "execution_count": 7,
   "metadata": {},
   "outputs": [],
   "source": [
    "collection.drop()"
   ]
  },
  {
   "cell_type": "code",
   "execution_count": 8,
   "metadata": {},
   "outputs": [],
   "source": [
    "with open('car.json') as file:\n",
    "    file_data = json.load(file)"
   ]
  },
  {
   "cell_type": "code",
   "execution_count": 9,
   "metadata": {},
   "outputs": [
    {
     "data": {
      "text/plain": [
       "<pymongo.results.InsertManyResult at 0x7ff9d40f7f10>"
      ]
     },
     "execution_count": 9,
     "metadata": {},
     "output_type": "execute_result"
    }
   ],
   "source": [
    "collection.insert_many(file_data) #collection created"
   ]
  },
  {
   "cell_type": "code",
   "execution_count": 19,
   "metadata": {},
   "outputs": [
    {
     "name": "stdout",
     "output_type": "stream",
     "text": [
      "Mileage for your car in kWh/mile: 0.24\n",
      "Mileage for your car in kWh/km: 0.15\n",
      "You have 218.75 miles left with you current battery level\n",
      "You have 350.0 kiometers left with you current battery level\n",
      "You are good to keep going!\n"
     ]
    }
   ],
   "source": [
    "mileage=0\n",
    "char=0\n",
    "for y in collection.find({\"Electric Car Model\":model}):\n",
    "    mileage+=y[\"kWh per mile\"]\n",
    "    for x in collection.find({\"Electric Car Model\":model}):\n",
    "        char+=x[\"battery\"]\n",
    "        C=(cap*char)/100\n",
    "        D=C/mileage\n",
    "        D1=D*1.6\n",
    "print(\"Mileage for your car in kWh/mile:\",mileage)\n",
    "print(\"Mileage for your car in kWh/km:\",mileage1)\n",
    "print(\"You have\",round(D,3),\"miles left with you current battery level\")\n",
    "print(\"You have\",round(D1,3),\"kiometers left with you current battery level\")\n",
    "\n",
    "if mileage > 50:\n",
    "    print(\"Please your vehicle charge now!\")\n",
    "else:\n",
    "    print(\"You are good to keep going!\")"
   ]
  },
  {
   "cell_type": "code",
   "execution_count": null,
   "metadata": {},
   "outputs": [],
   "source": []
  }
 ],
 "metadata": {
  "kernelspec": {
   "display_name": "Python 3",
   "language": "python",
   "name": "python3"
  },
  "language_info": {
   "codemirror_mode": {
    "name": "ipython",
    "version": 3
   },
   "file_extension": ".py",
   "mimetype": "text/x-python",
   "name": "python",
   "nbconvert_exporter": "python",
   "pygments_lexer": "ipython3",
   "version": "3.7.6"
  }
 },
 "nbformat": 4,
 "nbformat_minor": 4
}
